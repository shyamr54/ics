{
 "cells": [
  {
   "cell_type": "code",
   "execution_count": 2,
   "id": "773f7c9f",
   "metadata": {},
   "outputs": [
    {
     "name": "stdout",
     "output_type": "stream",
     "text": [
      "Publicly shared values:\n",
      "Prime number (p): 23\n",
      "Primitive root (g): 5\n",
      "\n",
      "Alice's private key (a): 9\n",
      "Bob's private key (b): 10\n",
      "\n",
      "Alice's public key (A): 11\n",
      "Bob's public key (B): 9\n",
      "\n",
      "Alice's computed shared secret: 2\n",
      "Bob's computed shared secret: 2\n",
      "\n",
      "✅ Success! Shared secret key established: 2\n"
     ]
    }
   ],
   "source": [
    "import random\n",
    "\n",
    "# Step 1: Publicly shared prime number (p) and primitive root (g)\n",
    "p = int(input(\"Enter The Prime Number P\"))    # Prime number\n",
    "g = int(input(\"Enter the primitive root modulo P\"))    # Primitive root modulo p\n",
    "print(f\"Publicly shared values:\\nPrime number (p): {p}\\nPrimitive root (g): {g}\\n\")\n",
    "\n",
    "# Step 2: Each person chooses a private key\n",
    "a = random.randint(1, p-2)  # Alice's private key\n",
    "b = random.randint(1, p-2)  # Bob's private key\n",
    "print(f\"Alice's private key (a): {a}\")\n",
    "print(f\"Bob's private key (b): {b}\\n\")\n",
    "\n",
    "# Step 3: Calculate the public keys\n",
    "A = pow(g, a, p)  # Alice's public key\n",
    "B = pow(g, b, p)  # Bob's public key\n",
    "print(f\"Alice's public key (A): {A}\")\n",
    "print(f\"Bob's public key (B): {B}\\n\")\n",
    "\n",
    "# Step 4: Exchange public keys and calculate the shared secret\n",
    "shared_secret_alice = pow(B, a, p)  # Alice computes shared key\n",
    "shared_secret_bob = pow(A, b, p)    # Bob computes shared key\n",
    "\n",
    "print(f\"Alice's computed shared secret: {shared_secret_alice}\")\n",
    "print(f\"Bob's computed shared secret: {shared_secret_bob}\\n\")\n",
    "\n",
    "# Step 5: Verify that both shared secrets are the same\n",
    "if shared_secret_alice == shared_secret_bob:\n",
    "    print(f\"✅ Success! Shared secret key established: {shared_secret_alice}\")\n",
    "else:\n",
    "    print(\"❌ Error! Shared secrets do not match.\")\n"
   ]
  }
 ],
 "metadata": {
  "kernelspec": {
   "display_name": "Python 3",
   "language": "python",
   "name": "python3"
  },
  "language_info": {
   "codemirror_mode": {
    "name": "ipython",
    "version": 3
   },
   "file_extension": ".py",
   "mimetype": "text/x-python",
   "name": "python",
   "nbconvert_exporter": "python",
   "pygments_lexer": "ipython3",
   "version": "3.9.11"
  }
 },
 "nbformat": 4,
 "nbformat_minor": 5
}
