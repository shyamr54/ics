{
 "cells": [
  {
   "cell_type": "code",
   "execution_count": 5,
   "id": "731f2024",
   "metadata": {},
   "outputs": [
    {
     "name": "stdout",
     "output_type": "stream",
     "text": [
      "Public Key (e, n): (12547323037747975551617222687466720445902124868173440172490606337279279506542835521424687329159531612232734192720517494388412773343007478453646506528750379408166113020246141890537421453469671973319658790755220685085053431194313997183498778601561930491968020285801268917971546034899039395935937251803547713807, 122863057389456576594706929232750542530393226470414641659059720348848775986614512758011141747580097357893640176786576986535342410055720608082662572289762693762584213783325707397474951706891198441170254468298636270351890395860358696191462820155902985305077989395377289978213796406691340786031688456368067005517)\n",
      "Private Key (d, n): (21161022913354098775012421582806123476706165413422853020030851797087613129925038004668905509223789453598094244254678858822736468339152600319965857309554314175589160365630337866885681328421792463010694099747250632278409189129831791147678028065326681939478081846002021438389720348943450461669687741145201996943, 122863057389456576594706929232750542530393226470414641659059720348848775986614512758011141747580097357893640176786576986535342410055720608082662572289762693762584213783325707397474951706891198441170254468298636270351890395860358696191462820155902985305077989395377289978213796406691340786031688456368067005517)\n",
      "\n",
      "Original Message: Hello RSA!\n",
      "\n",
      "Ciphertext: 62572394677313499828787124012709540743250896773117257203634165596930035532587834008307211372054056256811825904981022050027905205018469204697928920359160603670789564058973713506744988978594251231505416146090103665541007251652423262982560969368600404788131520316314497348684157313403767172582349581618202990305\n",
      "\n",
      "Decrypted Message: Hello RSA!\n"
     ]
    }
   ],
   "source": [
    "# Import necessary libraries\n",
    "from sympy import randprime, gcd\n",
    "from sympy import mod_inverse\n",
    "from sympy import isprime\n",
    "import random\n",
    "\n",
    "# Function to generate public and private keys\n",
    "def generate_keys(bit_length=512):\n",
    "    # Generate two distinct prime numbers\n",
    "    p = randprime(2**(bit_length-1), 2**bit_length)\n",
    "    q = randprime(2**(bit_length-1), 2**bit_length)\n",
    "    while p == q:\n",
    "        q = randprime(2**(bit_length-1), 2**bit_length)\n",
    "\n",
    "    # Calculate n = p * q\n",
    "    n = p * q\n",
    "\n",
    "    # Calculate Euler's Totient function φ(n) = (p-1)*(q-1)\n",
    "    phi_n = (p - 1) * (q - 1)\n",
    "\n",
    "    # Choose e such that 1 < e < φ(n) and gcd(e, φ(n)) = 1\n",
    "    e = random.randrange(2, phi_n)\n",
    "    while gcd(e, phi_n) != 1:\n",
    "        e = random.randrange(2, phi_n)\n",
    "\n",
    "    # Calculate d (modular inverse of e modulo φ(n))\n",
    "    d = mod_inverse(e, phi_n)\n",
    "\n",
    "    # Return public and private keys\n",
    "    return ((e, n), (d, n))\n",
    "\n",
    "# Function to encrypt a plaintext message\n",
    "def encrypt(plaintext, public_key):\n",
    "    e, n = public_key\n",
    "    # Convert plaintext to integer\n",
    "    plaintext_int = int.from_bytes(plaintext.encode(), byteorder='big')\n",
    "    # Encrypt using modular exponentiation\n",
    "    ciphertext = pow(plaintext_int, e, n)\n",
    "    return ciphertext\n",
    "\n",
    "# Function to decrypt a ciphertext message\n",
    "def decrypt(ciphertext, private_key):\n",
    "    d, n = private_key\n",
    "    # Decrypt using modular exponentiation\n",
    "    plaintext_int = pow(ciphertext, d, n)\n",
    "    # Convert integer back to plaintext\n",
    "    plaintext = plaintext_int.to_bytes((plaintext_int.bit_length() + 7) // 8, byteorder='big').decode()\n",
    "    return plaintext\n",
    "\n",
    "def main():\n",
    "    public_key, private_key = generate_keys()\n",
    "\n",
    "    print(\"Public Key (e, n):\", public_key)\n",
    "    print(\"Private Key (d, n):\", private_key)\n",
    "\n",
    "    message = \"Hello RSA!\"\n",
    "    print(\"\\nOriginal Message:\", message)\n",
    "\n",
    "    ciphertext = encrypt(message, public_key)\n",
    "    print(\"\\nCiphertext:\", ciphertext)\n",
    "\n",
    "    decrypted_message = decrypt(ciphertext, private_key)\n",
    "    print(\"\\nDecrypted Message:\", decrypted_message)\n",
    "\n",
    "if __name__ == \"__main__\":\n",
    "    main()\n"
   ]
  }
 ],
 "metadata": {
  "kernelspec": {
   "display_name": "Python 3",
   "language": "python",
   "name": "python3"
  },
  "language_info": {
   "codemirror_mode": {
    "name": "ipython",
    "version": 3
   },
   "file_extension": ".py",
   "mimetype": "text/x-python",
   "name": "python",
   "nbconvert_exporter": "python",
   "pygments_lexer": "ipython3",
   "version": "3.9.11"
  }
 },
 "nbformat": 4,
 "nbformat_minor": 5
}
